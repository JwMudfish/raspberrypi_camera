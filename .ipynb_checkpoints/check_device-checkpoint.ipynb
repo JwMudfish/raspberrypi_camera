{
 "cells": [
  {
   "cell_type": "code",
   "execution_count": 1,
   "metadata": {},
   "outputs": [],
   "source": [
    "from __future__ import absolute_import, division, print_function, unicode_literals\n",
    "import sys\n",
    "if sys.version_info < (3, 0):\n",
    "    print(\"ERROR : Run the Python version 3.\")\n",
    "    exit()\n",
    "\n",
    "import math\n",
    "import os\n",
    "import time\n",
    "import cv2\n",
    "import numpy as np"
   ]
  },
  {
   "cell_type": "code",
   "execution_count": null,
   "metadata": {},
   "outputs": [],
   "source": []
  },
  {
   "cell_type": "code",
   "execution_count": 77,
   "metadata": {},
   "outputs": [],
   "source": [
    "import os\n",
    "import time\n",
    "import cv2\n",
    "import numpy as np\n",
    "\n",
    "def time_checker(func):\n",
    "    def inner_function(*args, **kwargs):\n",
    "        #import time\n",
    "        start_time = time.time()\n",
    "        result = func(*args, **kwargs)\n",
    "        end_time = time.time()\n",
    "        print('함수 {} 동작시간 : {}'.format(func.__name__, end_time-start_time))\n",
    "        return result\n",
    "    return inner_function\n",
    "\n",
    "\n",
    "@time_checker\n",
    "def check_camera(camera_cnt):\n",
    "    # True, False 보내는 용도\n",
    "\n",
    "    device_count = camera_cnt   #6\n",
    "\n",
    "# usb에 설치된 카메라 리스트 받아오기\n",
    "\n",
    "    devices_list = []\n",
    "\n",
    "    result = os.popen('v4l2-ctl --list-devices').read()\n",
    "    result_lists = result.split(\"\\n\\n\")\n",
    "    for result_list in result_lists:\n",
    "        if result_list != '':\n",
    "            result_list_2 = result_list.split('\\n\\t')\n",
    "            devices_list.append(result_list_2[1])\n",
    "\n",
    "    camera_status = []\n",
    "\n",
    "    \n",
    "# 리스트에 있는 카메라 작동여부 파악하기\n",
    "\n",
    "    for i in devices_list:\n",
    "        camera_num = int(i[-1])\n",
    "        cap = cv2.VideoCapture(camera_num)\n",
    "        ret,_ = cap.read()\n",
    "        camera_status.append(ret)\n",
    "        cap.release()\n",
    "\n",
    "    # True False return 해주면 됨\n",
    "    if sum(camera_status) is device_count and len(camera_status) is device_count:\n",
    "        print('True')\n",
    "\n",
    "    else:\n",
    "        print('False')\n",
    "\n"
   ]
  },
  {
   "cell_type": "code",
   "execution_count": 78,
   "metadata": {},
   "outputs": [
    {
     "name": "stdout",
     "output_type": "stream",
     "text": [
      "False\n",
      "함수 check_camera 동작시간 : 2.528541326522827\n"
     ]
    }
   ],
   "source": [
    "check_camera(camera_cnt= 1)"
   ]
  },
  {
   "cell_type": "code",
   "execution_count": null,
   "metadata": {},
   "outputs": [],
   "source": []
  }
 ],
 "metadata": {
  "kernelspec": {
   "display_name": "Python 3",
   "language": "python",
   "name": "python3"
  },
  "language_info": {
   "codemirror_mode": {
    "name": "ipython",
    "version": 3
   },
   "file_extension": ".py",
   "mimetype": "text/x-python",
   "name": "python",
   "nbconvert_exporter": "python",
   "pygments_lexer": "ipython3",
   "version": "3.6.8"
  }
 },
 "nbformat": 4,
 "nbformat_minor": 2
}
